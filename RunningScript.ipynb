{
 "cells": [
  {
   "cell_type": "code",
   "execution_count": 7,
   "metadata": {},
   "outputs": [],
   "source": [
    "import pandas as pd\n",
    "import numpy as np\n",
    "import MAIN.Basics as basics\n",
    "import MAIN.Reinforcement as RL\n",
    "import tensorflow as tf\n",
    "import seaborn as sns\n",
    "import matplotlib.pyplot as plt\n",
    "from UTIL import FileIO\n",
    "from STRATEGY.Cointegration import EGCointegration\n",
    "import time\n",
    "import warnings\n",
    "warnings.filterwarnings('ignore')\n",
    "\n"
   ]
  },
  {
   "cell_type": "code",
   "execution_count": 8,
   "metadata": {},
   "outputs": [],
   "source": [
    "# Read config\n",
    "config_path  = 'CONFIG/config_train.yml'\n",
    "config_train = FileIO.read_yaml(config_path)\n",
    "\n",
    "# Read prices\n",
    "# x_stock = 'PEP'\n",
    "# y_stock = 'KO'\n",
    "# x_stock = 'JNJ'\n",
    "# y_stock = 'PG'\n",
    "# x_stock = 'GOOG'\n",
    "# y_stock = 'FB'\n",
    "# x_stock = 'C'\n",
    "# y_stock = 'WFC'\n",
    "x_stock = 'C'\n",
    "y_stock = 'BK'\n",
    "x = pd.read_csv('STATICS/PRICE/'+ x_stock +'.csv')\n",
    "y = pd.read_csv('STATICS/PRICE/'+ y_stock +'.csv')\n",
    "x, y = EGCointegration.clean_data(x, y, 'date', 'close')\n"
   ]
  },
  {
   "cell_type": "code",
   "execution_count": 9,
   "metadata": {},
   "outputs": [],
   "source": [
    "def train_model(x,y): \n",
    "    # Separate training and testing sets\n",
    "    train_pct = 0.7\n",
    "    train_len = round(len(x) * 0.7)\n",
    "    idx_train = list(range(0, train_len))\n",
    "    idx_test  = list(range(train_len, len(x)))\n",
    "    EG_Train = EGCointegration(x.iloc[idx_train, :], y.iloc[idx_train, :], 'date', 'close')\n",
    "    EG_Test  = EGCointegration(x.iloc[idx_test,  :], y.iloc[idx_test,  :], 'date', 'close')\n",
    "\n",
    "    # Create action space\n",
    "    n_hist    = list(np.arange(60, 601, 60))\n",
    "    n_forward = list(np.arange(120, 1201, 120))\n",
    "    trade_th  = list(np.arange(1,  5.1, 1))\n",
    "    stop_loss = list(np.arange(1,  2.1, 0.5))\n",
    "    cl        = list(np.arange(0.05,  0.11, 0.05))\n",
    "    actions   = {'n_hist':    n_hist,\n",
    "                 'n_forward': n_forward,\n",
    "                 'trade_th':  trade_th,\n",
    "                 'stop_loss': stop_loss,\n",
    "                 'cl':        cl}\n",
    "    n_action  = int(np.product([len(actions[key]) for key in actions.keys()]))\n",
    "\n",
    "    # Create state space\n",
    "    transaction_cost = [0.001]\n",
    "    states  = {'transaction_cost': transaction_cost}\n",
    "    n_state = len(states)\n",
    "\n",
    "    # Assign state and action spaces to config\n",
    "    config_train['StateSpaceState'] = states\n",
    "    config_train['ActionSpaceAction'] = actions\n",
    "\n",
    "    # Create and build network\n",
    "    one_hot  = {'one_hot': {'func_name':  'one_hot',\n",
    "                            'input_arg':  'indices',\n",
    "                             'layer_para': {'indices': None,\n",
    "                                            'depth': n_state}}}\n",
    "    output_layer = {'final': {'func_name':  'fully_connected',\n",
    "                              'input_arg':  'inputs',\n",
    "                              'layer_para': {'inputs': None,\n",
    "                                             'num_outputs': n_action,\n",
    "                                             'biases_initializer': None,\n",
    "                                             'activation_fn': tf.nn.relu,\n",
    "                                             'weights_initializer': tf.ones_initializer()}}}\n",
    "\n",
    "    state_in = tf.placeholder(shape=[1], dtype=tf.int32)\n",
    "\n",
    "    N = basics.Network(state_in)\n",
    "    N.build_layers(one_hot)\n",
    "    N.add_layer_duplicates(output_layer, 1)\n",
    "\n",
    "    # Create learning object and perform training\n",
    "    RL_Train = RL.ContextualBandit(N, config_train, EG_Train)\n",
    "\n",
    "    start = time.time()\n",
    "    sess = tf.Session()\n",
    "    RL_Train.process(sess, save=False, restore=False)\n",
    "    end = time.time()\n",
    "\n",
    "    # Extract training results\n",
    "    action = RL_Train.recorder.record['NETWORK_ACTION']\n",
    "    reward = RL_Train.recorder.record['ENGINE_REWARD']\n",
    "    [opt_action] = sess.run([RL_Train.output], feed_dict=RL_Train.feed_dict)\n",
    "    opt_action = np.argmax(opt_action)\n",
    "    action_dict = RL_Train.action_space.convert(opt_action, 'index_to_dict')\n",
    "\n",
    "    return action, reward, action_dict, (end-start)/60"
   ]
  },
  {
   "cell_type": "code",
   "execution_count": null,
   "metadata": {},
   "outputs": [],
   "source": [
    "df_result = pd.DataFrame()\n",
    "\n",
    "for i in range(5):\n",
    "    action, reward, action_dict, time_taken = train_model(x,y)\n",
    "\n",
    "    df1 = pd.DataFrame()\n",
    "    df1['action'] = action\n",
    "    df1['reward'] = reward\n",
    "    mean_reward_per_action = df1.groupby('action').mean()\n",
    "    #sns.distplot(mean_reward_per_action)\n",
    "\n",
    "\n",
    "    print(mean_reward_per_action.reward.mean())\n",
    "    print(f\"Training took: {time_taken}\")\n",
    "\n",
    "    df_result.loc[i,'action_dict'] = str(action_dict)\n",
    "    df_result.loc[i,'mean_reward'] = mean_reward_per_action.reward.mean()\n",
    "    df_result.loc[i,'time_taken'] = time_taken\n",
    "    df_result.to_csv('df_result_30.csv', index=False)\n"
   ]
  },
  {
   "cell_type": "code",
   "execution_count": null,
   "metadata": {},
   "outputs": [],
   "source": [
    "df_result"
   ]
  },
  {
   "cell_type": "code",
   "execution_count": null,
   "metadata": {},
   "outputs": [],
   "source": [
    "print(\"a\")"
   ]
  },
  {
   "cell_type": "code",
   "execution_count": null,
   "metadata": {},
   "outputs": [],
   "source": []
  }
 ],
 "metadata": {
  "kernelspec": {
   "display_name": "conda_tensorflow_p36",
   "language": "python",
   "name": "conda_tensorflow_p36"
  },
  "language_info": {
   "codemirror_mode": {
    "name": "ipython",
    "version": 3
   },
   "file_extension": ".py",
   "mimetype": "text/x-python",
   "name": "python",
   "nbconvert_exporter": "python",
   "pygments_lexer": "ipython3",
   "version": "3.6.5"
  }
 },
 "nbformat": 4,
 "nbformat_minor": 2
}
